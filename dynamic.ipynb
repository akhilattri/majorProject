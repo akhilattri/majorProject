{
 "cells": [
  {
   "cell_type": "code",
   "execution_count": null,
   "id": "73801347-f3cb-46b1-ace6-26375fb51bd0",
   "metadata": {},
   "outputs": [],
   "source": [
    "!pip install pandas\n",
    "!pip install scikit-learn"
   ]
  },
  {
   "cell_type": "code",
   "execution_count": null,
   "id": "82ce5050-7478-4ab0-9e21-fc7f46cf1c45",
   "metadata": {},
   "outputs": [],
   "source": [
    "import pandas as pd\n",
    "import os\n",
    "from sklearn.model_selection import train_test_split\n",
    "from sklearn.neural_network import MLPClassifier\n",
    "from sklearn.preprocessing import StandardScaler\n",
    "from sklearn.naive_bayes import GaussianNB,CategoricalNB\n",
    "from sklearn.svm import SVC\n",
    "from sklearn.linear_model import LogisticRegression\n",
    "from sklearn.metrics import classification_report, confusion_matrix"
   ]
  },
  {
   "cell_type": "code",
   "execution_count": null,
   "id": "2c99a53d-7163-48fc-a04b-a7e32ef934fb",
   "metadata": {},
   "outputs": [],
   "source": [
    "data_dir = '../figshare/data/data/'\n",
    "csv_files = [file for file in os.listdir(data_dir) if file.endswith('.csv')]\n",
    "dfs = {}  # Dictionary to store dataframes\n",
    "\n",
    "for file in csv_files:\n",
    "    df_name = file.split('.')[0]  # Extract dataframe name from file name\n",
    "    file_path = data_dir + file\n",
    "    dfs[df_name] = pd.read_csv(file_path)"
   ]
  },
  {
   "cell_type": "code",
   "execution_count": null,
   "id": "4e529a4d-8e3d-4f57-b288-80d0fd9c4ac0",
   "metadata": {},
   "outputs": [],
   "source": [
    "runMLP():\n",
    "    MLP = MLPClassifier(hidden_layer_sizes=(100, 50), activation='relu', solver='adam', max_iter=1000, random_state=42)\n",
    "    MLP.fit(x_train, y_train)\n",
    "    y_pred = MLP.predict(x_test)\n",
    "    print(classification_report(y_test, y_pred))\n",
    "    # print(confusion_matrix(y_test, y_pred))"
   ]
  },
  {
   "cell_type": "code",
   "execution_count": null,
   "id": "fb948d4e-14ab-43b0-9d7b-97f9fe4a1e92",
   "metadata": {},
   "outputs": [],
   "source": [
    "runNB():\n",
    "    gnb=GaussianNB()\n",
    "    cnb=CategoricalNB()\n",
    "    \n",
    "    gnb.fit(x_train,y_train)\n",
    "    cnb.fit(x_train,y_train)\n",
    "    \n",
    "    y_gnb_pred=gnb.predict(x_test)\n",
    "    # y_cnb_pred=cnb.predict(x_test)\n",
    "    \n",
    "    print(classification_report(y_test, y_gnb_pred))\n",
    "    # print(classification_report(y_test, y_cnb_pred))"
   ]
  },
  {
   "cell_type": "code",
   "execution_count": null,
   "id": "5918dc58-3f7e-4d7b-9e72-1eaac6d2b223",
   "metadata": {},
   "outputs": [],
   "source": [
    "runRBF():\n",
    "    rbf = SVC(kernel='rbf', random_state=423843)\n",
    "    \n",
    "    rbf.fit(x_train,y_train)\n",
    "    \n",
    "    y_rbf_pred=rbf.predict(x_test)\n",
    "    \n",
    "    print(classification_report(y_test, y_rbf_pred))"
   ]
  },
  {
   "cell_type": "code",
   "execution_count": null,
   "id": "47ed208b-7faf-428e-bb96-86605f83db96",
   "metadata": {},
   "outputs": [],
   "source": [
    "runLOG():\n",
    "    lgr=LogisticRegression(random_state=0)\n",
    "    \n",
    "    lgr.fit(x_train,y_train)"
   ]
  },
  {
   "cell_type": "code",
   "execution_count": null,
   "id": "7d1ffb0f-fe75-4b53-9116-9aab78c8d1bd",
   "metadata": {},
   "outputs": [],
   "source": [
    "for df_name, df in dfs.items():\n",
    "    # Perform operations on df or df_name\n",
    "    print(f\"DataFrame Name: {df_name}\")\n",
    "    print(df.head())  # Example operation: Display first few rows of each dataframe\n",
    "\n",
    "    x = df.drop('bug', axis=1)  # Features\n",
    "    y = df['bug']  # Target variable\n",
    "    x_train, x_test, y_train, y_test = train_test_split(x, y, test_size=0.2, random_state=42)\n",
    "    \n",
    "    runMLP()\n",
    "    runNB()\n",
    "    runRBF()\n",
    "    runLOG()"
   ]
  }
 ],
 "metadata": {
  "kernelspec": {
   "display_name": "Python 3 (ipykernel)",
   "language": "python",
   "name": "python3"
  },
  "language_info": {
   "codemirror_mode": {
    "name": "ipython",
    "version": 3
   },
   "file_extension": ".py",
   "mimetype": "text/x-python",
   "name": "python",
   "nbconvert_exporter": "python",
   "pygments_lexer": "ipython3",
   "version": "3.10.11"
  }
 },
 "nbformat": 4,
 "nbformat_minor": 5
}
